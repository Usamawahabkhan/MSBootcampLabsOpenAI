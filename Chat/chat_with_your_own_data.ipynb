{
 "cells": [
  {
   "cell_type": "markdown",
   "metadata": {},
   "source": [
    "# Azure chat completion models with your own data (preview)\n",
    "This example shows how to use Azure OpenAI service models with your own data. The feature is currently in preview. \n",
    "\n",
    "Azure OpenAI on your data enables you to run supported chat models such as GPT-3.5-Turbo and GPT-4 on your data without needing to train or fine-tune models. Running models on your data enables you to chat on top of, and analyze your data with greater accuracy and speed. One of the key benefits of Azure OpenAI on your data is its ability to tailor the content of conversational AI. Because the model has access to, and can reference specific sources to support its responses, answers are not only based on its pretrained knowledge but also on the latest information available in the designated data source. This grounding data also helps the model avoid generating responses based on outdated or incorrect information.\n",
    "\n",
    "Azure OpenAI on your own data with Azure Cognitive Search provides a customizable, pre-built solution for knowledge retrieval, from which a conversational AI application can be built. To see alternative methods for knowledge retrieval and semantic search, check out the cookbook examples for [vector databases](https://github.com/openai/openai-cookbook/tree/main/examples/vector_databases)."
   ]
  },
  {
   "cell_type": "markdown",
   "metadata": {},
   "source": [
    "## How it works\n",
    "\n",
    "[Azure OpenAI on your own data](https://learn.microsoft.com/azure/ai-services/openai/concepts/use-your-data) connects the model with your data, giving it the ability to retrieve and utilize data in a way that enhances the model's output. Together with Azure Cognitive Search, data is retrieved from designated data sources based on the user input and provided conversation history. The data is then augmented and resubmitted as a prompt to the model, giving the model contextual information it can use to generate a response.\n",
    "\n",
    "See the [Data, privacy, and security for Azure OpenAI Service](https://learn.microsoft.com/legal/cognitive-services/openai/data-privacy?context=%2Fazure%2Fai-services%2Fopenai%2Fcontext%2Fcontext) for more information."
   ]
  },
  {
   "cell_type": "markdown",
   "metadata": {},
   "source": [
    "## Prerequisites\n",
    "To get started, we'll cover a few prequisites. \n",
    "\n",
    "To properly access the Azure OpenAI Service, we need to create the proper resources at the [Azure Portal](https://portal.azure.com) (you can check a detailed guide on how to do this in the [Microsoft Docs](https://learn.microsoft.com/azure/cognitive-services/openai/how-to/create-resource?pivots=web-portal))\n",
    "\n",
    "To use your own data with Azure OpenAI models, you will need:\n",
    "\n",
    "1. Azure OpenAI access and a resource with a chat model deployed (for example, GPT-3 or GPT-4)\n",
    "2. Azure Cognitive Search resource\n",
    "3. Azure Blob Storage resource\n",
    "4. Your documents to be used as data (See [data source options](https://learn.microsoft.com/azure/ai-services/openai/concepts/use-your-data#data-source-options))\n",
    "\n",
    "\n",
    "For a full walk-through on how to upload your documents to blob storage and create an index using the Azure AI Studio, see this [Quickstart](https://learn.microsoft.com/azure/ai-services/openai/use-your-data-quickstart?pivots=programming-language-studio&tabs=command-line)."
   ]
  },
  {
   "cell_type": "markdown",
   "metadata": {},
   "source": [
    "## Setup\n",
    "\n",
    "First, we install the necessary dependencies."
   ]
  },
  {
   "cell_type": "code",
   "execution_count": 5,
   "metadata": {},
   "outputs": [
    {
     "name": "stdout",
     "output_type": "stream",
     "text": [
      "Requirement already satisfied: openai>=0.27.6 in d:\\trainings\\ai\\labs\\labs\\.venv\\lib\\site-packages (0.28.1)\n",
      "Requirement already satisfied: requests>=2.20 in d:\\trainings\\ai\\labs\\labs\\.venv\\lib\\site-packages (from openai>=0.27.6) (2.31.0)\n",
      "Requirement already satisfied: tqdm in d:\\trainings\\ai\\labs\\labs\\.venv\\lib\\site-packages (from openai>=0.27.6) (4.66.1)\n",
      "Requirement already satisfied: aiohttp in d:\\trainings\\ai\\labs\\labs\\.venv\\lib\\site-packages (from openai>=0.27.6) (3.8.6)\n",
      "Requirement already satisfied: charset-normalizer<4,>=2 in d:\\trainings\\ai\\labs\\labs\\.venv\\lib\\site-packages (from requests>=2.20->openai>=0.27.6) (3.3.0)\n",
      "Requirement already satisfied: idna<4,>=2.5 in d:\\trainings\\ai\\labs\\labs\\.venv\\lib\\site-packages (from requests>=2.20->openai>=0.27.6) (3.4)\n",
      "Requirement already satisfied: urllib3<3,>=1.21.1 in d:\\trainings\\ai\\labs\\labs\\.venv\\lib\\site-packages (from requests>=2.20->openai>=0.27.6) (2.0.7)\n",
      "Requirement already satisfied: certifi>=2017.4.17 in d:\\trainings\\ai\\labs\\labs\\.venv\\lib\\site-packages (from requests>=2.20->openai>=0.27.6) (2023.7.22)\n",
      "Requirement already satisfied: attrs>=17.3.0 in d:\\trainings\\ai\\labs\\labs\\.venv\\lib\\site-packages (from aiohttp->openai>=0.27.6) (23.1.0)\n",
      "Requirement already satisfied: multidict<7.0,>=4.5 in d:\\trainings\\ai\\labs\\labs\\.venv\\lib\\site-packages (from aiohttp->openai>=0.27.6) (6.0.4)\n",
      "Requirement already satisfied: async-timeout<5.0,>=4.0.0a3 in d:\\trainings\\ai\\labs\\labs\\.venv\\lib\\site-packages (from aiohttp->openai>=0.27.6) (4.0.3)\n",
      "Requirement already satisfied: yarl<2.0,>=1.0 in d:\\trainings\\ai\\labs\\labs\\.venv\\lib\\site-packages (from aiohttp->openai>=0.27.6) (1.9.2)\n",
      "Requirement already satisfied: frozenlist>=1.1.1 in d:\\trainings\\ai\\labs\\labs\\.venv\\lib\\site-packages (from aiohttp->openai>=0.27.6) (1.4.0)\n",
      "Requirement already satisfied: aiosignal>=1.1.2 in d:\\trainings\\ai\\labs\\labs\\.venv\\lib\\site-packages (from aiohttp->openai>=0.27.6) (1.3.1)\n",
      "Requirement already satisfied: colorama in d:\\trainings\\ai\\labs\\labs\\.venv\\lib\\site-packages (from tqdm->openai>=0.27.6) (0.4.6)\n",
      "^C\n"
     ]
    }
   ],
   "source": [
    "! pip install \"openai>=0.27.6\"\n",
    "! pip install python-dotenv"
   ]
  },
  {
   "cell_type": "markdown",
   "metadata": {},
   "source": [
    "In this example, we'll use `dotenv` to load our environment variables. To connect with Azure OpenAI and the Search index, the following variables should be added to a `.env` file in `KEY=VALUE` format:\n",
    "\n",
    "* `OPENAI_API_BASE` - the Azure OpenAI endpoint. This can be found under \"Keys and Endpoints\" for your Azure OpenAI resource in the Azure Portal.\n",
    "* `OPENAI_API_KEY` - the Azure OpenAI API key. This can be found under \"Keys and Endpoints\" for your Azure OpenAI resource in the Azure Portal. Omit if using Azure Active Directory authentication (see below `Authentication using Microsoft Active Directory`)\n",
    "* `SEARCH_ENDPOINT` - the Cognitive Search endpoint. This URL be found on the \"Overview\" of your Search resource on the Azure Portal.\n",
    "* `SEARCH_KEY` - the Cognitive Search API key. Found under \"Keys\" for your Search resource in the Azure Portal.\n",
    "* `SEARCH_INDEX_NAME` - the name of the index you created with your own data."
   ]
  },
  {
   "cell_type": "code",
   "execution_count": 28,
   "metadata": {},
   "outputs": [
    {
     "data": {
      "text/plain": [
       "False"
      ]
     },
     "execution_count": 28,
     "metadata": {},
     "output_type": "execute_result"
    }
   ],
   "source": [
    "import os\n",
    "import openai\n",
    "import dotenv\n",
    "\n",
    "dotenv.load_dotenv()"
   ]
  },
  {
   "cell_type": "code",
   "execution_count": null,
   "metadata": {},
   "outputs": [],
   "source": []
  },
  {
   "cell_type": "code",
   "execution_count": 55,
   "metadata": {},
   "outputs": [],
   "source": [
    "openai.api_base = \"https://azureopenaiteamuppro.openai.azure.com\"  #os.environ[\"OPENAI_API_BASE\"]\n",
    "\n",
    "# Azure OpenAI on your own data is only supported by the 2023-08-01-preview API version\n",
    "openai.api_version = \"2023-08-01-preview\""
   ]
  },
  {
   "cell_type": "markdown",
   "metadata": {},
   "source": [
    "### Authentication\n",
    "\n",
    "The Azure OpenAI service supports multiple authentication mechanisms that include API keys and Azure credentials."
   ]
  },
  {
   "cell_type": "code",
   "execution_count": 15,
   "metadata": {},
   "outputs": [],
   "source": [
    "use_azure_active_directory = False  # Set this flag to True if you are using Azure Active Directory"
   ]
  },
  {
   "cell_type": "markdown",
   "metadata": {},
   "source": [
    "\n",
    "#### Authentication using API key\n",
    "\n",
    "To set up the OpenAI SDK to use an *Azure API Key*, we need to set up the `api_type` to `azure` and set `api_key` to a key associated with your endpoint (you can find this key in *\"Keys and Endpoints\"* under *\"Resource Management\"* in the [Azure Portal](https://portal.azure.com))"
   ]
  },
  {
   "cell_type": "code",
   "execution_count": 36,
   "metadata": {},
   "outputs": [],
   "source": [
    "if not use_azure_active_directory:\n",
    "    openai.api_type = 'azure'\n",
    "    openai.api_key = \"29a5d76f38f5447a86610d059a1ae4f1\""
   ]
  },
  {
   "cell_type": "markdown",
   "metadata": {},
   "source": [
    "#### Authentication using Microsoft Active Directory\n",
    "Let's now see how we can get a key via Microsoft Active Directory Authentication. See the [documentation](https://learn.microsoft.com/azure/ai-services/openai/how-to/managed-identity) for more information on how to set this up."
   ]
  },
  {
   "cell_type": "code",
   "execution_count": 29,
   "metadata": {},
   "outputs": [
    {
     "name": "stdout",
     "output_type": "stream",
     "text": [
      "Requirement already satisfied: azure-identity in d:\\trainings\\ai\\labs\\labs\\.venv\\lib\\site-packages (1.14.1)\n",
      "Requirement already satisfied: azure-core<2.0.0,>=1.11.0 in d:\\trainings\\ai\\labs\\labs\\.venv\\lib\\site-packages (from azure-identity) (1.29.5)\n",
      "Requirement already satisfied: cryptography>=2.5 in d:\\trainings\\ai\\labs\\labs\\.venv\\lib\\site-packages (from azure-identity) (41.0.4)\n",
      "Requirement already satisfied: msal<2.0.0,>=1.20.0 in d:\\trainings\\ai\\labs\\labs\\.venv\\lib\\site-packages (from azure-identity) (1.24.1)\n",
      "Requirement already satisfied: msal-extensions<2.0.0,>=0.3.0 in d:\\trainings\\ai\\labs\\labs\\.venv\\lib\\site-packages (from azure-identity) (1.0.0)\n",
      "Requirement already satisfied: requests>=2.18.4 in d:\\trainings\\ai\\labs\\labs\\.venv\\lib\\site-packages (from azure-core<2.0.0,>=1.11.0->azure-identity) (2.31.0)\n",
      "Requirement already satisfied: six>=1.11.0 in d:\\trainings\\ai\\labs\\labs\\.venv\\lib\\site-packages (from azure-core<2.0.0,>=1.11.0->azure-identity) (1.16.0)\n",
      "Requirement already satisfied: typing-extensions>=4.6.0 in d:\\trainings\\ai\\labs\\labs\\.venv\\lib\\site-packages (from azure-core<2.0.0,>=1.11.0->azure-identity) (4.8.0)\n",
      "Requirement already satisfied: cffi>=1.12 in d:\\trainings\\ai\\labs\\labs\\.venv\\lib\\site-packages (from cryptography>=2.5->azure-identity) (1.16.0)\n",
      "Requirement already satisfied: PyJWT<3,>=1.0.0 in d:\\trainings\\ai\\labs\\labs\\.venv\\lib\\site-packages (from PyJWT[crypto]<3,>=1.0.0->msal<2.0.0,>=1.20.0->azure-identity) (2.8.0)\n",
      "Requirement already satisfied: portalocker<3,>=1.6 in d:\\trainings\\ai\\labs\\labs\\.venv\\lib\\site-packages (from msal-extensions<2.0.0,>=0.3.0->azure-identity) (2.8.2)\n",
      "Requirement already satisfied: pycparser in d:\\trainings\\ai\\labs\\labs\\.venv\\lib\\site-packages (from cffi>=1.12->cryptography>=2.5->azure-identity) (2.21)\n",
      "Requirement already satisfied: pywin32>=226 in d:\\trainings\\ai\\labs\\labs\\.venv\\lib\\site-packages (from portalocker<3,>=1.6->msal-extensions<2.0.0,>=0.3.0->azure-identity) (306)\n",
      "Requirement already satisfied: charset-normalizer<4,>=2 in d:\\trainings\\ai\\labs\\labs\\.venv\\lib\\site-packages (from requests>=2.18.4->azure-core<2.0.0,>=1.11.0->azure-identity) (3.3.0)\n",
      "Requirement already satisfied: idna<4,>=2.5 in d:\\trainings\\ai\\labs\\labs\\.venv\\lib\\site-packages (from requests>=2.18.4->azure-core<2.0.0,>=1.11.0->azure-identity) (3.4)\n",
      "Requirement already satisfied: urllib3<3,>=1.21.1 in d:\\trainings\\ai\\labs\\labs\\.venv\\lib\\site-packages (from requests>=2.18.4->azure-core<2.0.0,>=1.11.0->azure-identity) (2.0.7)\n",
      "Requirement already satisfied: certifi>=2017.4.17 in d:\\trainings\\ai\\labs\\labs\\.venv\\lib\\site-packages (from requests>=2.18.4->azure-core<2.0.0,>=1.11.0->azure-identity) (2023.7.22)\n"
     ]
    }
   ],
   "source": [
    "! pip install azure-identity"
   ]
  },
  {
   "cell_type": "code",
   "execution_count": 56,
   "metadata": {},
   "outputs": [],
   "source": [
    "from azure.identity import DefaultAzureCredential\n",
    "\n",
    "if use_azure_active_directory:\n",
    "    default_credential = DefaultAzureCredential()\n",
    "    token = default_credential.get_token(\"https://cognitiveservices.azure.com/.default\")\n",
    "\n",
    "    openai.api_type = \"azure_ad\"\n",
    "    openai.api_key = token.token"
   ]
  },
  {
   "cell_type": "markdown",
   "metadata": {},
   "source": [
    "A token is valid for a period of time, after which it will expire. To ensure a valid token is sent with every request, you can refresh an expiring token by hooking into requests.auth:"
   ]
  },
  {
   "cell_type": "code",
   "execution_count": 57,
   "metadata": {},
   "outputs": [],
   "source": [
    "import typing\n",
    "import time\n",
    "import requests\n",
    "\n",
    "if typing.TYPE_CHECKING:\n",
    "    from azure.core.credentials import TokenCredential\n",
    "\n",
    "class TokenRefresh(requests.auth.AuthBase):\n",
    "\n",
    "    def __init__(self, credential: \"TokenCredential\", scopes: typing.List[str]) -> None:\n",
    "        self.credential = credential\n",
    "        self.scopes = scopes\n",
    "        self.cached_token: typing.Optional[str] = None\n",
    "\n",
    "    def __call__(self, req):\n",
    "        if not self.cached_token or self.cached_token.expires_on - time.time() < 300:\n",
    "            self.cached_token = self.credential.get_token(*self.scopes)\n",
    "        req.headers[\"Authorization\"] = f\"Bearer {self.cached_token.token}\"\n",
    "        return req\n"
   ]
  },
  {
   "cell_type": "markdown",
   "metadata": {},
   "source": [
    "## Chat completion model with your own data"
   ]
  },
  {
   "cell_type": "markdown",
   "metadata": {},
   "source": [
    "### Setting the context"
   ]
  },
  {
   "cell_type": "markdown",
   "metadata": {},
   "source": [
    "In this example, we want our model to base its responses on Azure AI services documentation data. Following the [Quickstart](https://learn.microsoft.com/azure/ai-services/openai/use-your-data-quickstart?tabs=command-line&pivots=programming-language-studio) shared previously, we have added the [markdown](https://github.com/MicrosoftDocs/azure-docs/blob/main/articles/ai-services/cognitive-services-and-machine-learning.md) file for the [Azure AI services and machine learning](https://learn.microsoft.com/azure/ai-services/cognitive-services-and-machine-learning) documentation page to our search index. The model is now ready to answer questions about Azure AI services and machine learning."
   ]
  },
  {
   "cell_type": "markdown",
   "metadata": {},
   "source": [
    "### Code"
   ]
  },
  {
   "cell_type": "markdown",
   "metadata": {},
   "source": [
    "To chat with Azure OpenAI models using your own data with the Python SDK, we must first set up the code to target the chat completions extensions endpoint which is designed to work with your own data. To do this, we've created a convenience function that can be called to set a custom adapter for the library which will target the extensions endpoint for a given deployment ID."
   ]
  },
  {
   "cell_type": "code",
   "execution_count": 58,
   "metadata": {},
   "outputs": [],
   "source": [
    "import requests\n",
    "\n",
    "def setup_byod(deployment_id: str) -> None:\n",
    "    \"\"\"Sets up the OpenAI Python SDK to use your own data for the chat endpoint.\n",
    "    \n",
    "    :param deployment_id: The deployment ID for the model to use with your own data.\n",
    "\n",
    "    To remove this configuration, simply set openai.requestssession to None.\n",
    "    \"\"\"\n",
    "\n",
    "    class BringYourOwnDataAdapter(requests.adapters.HTTPAdapter):\n",
    "\n",
    "        def send(self, request, **kwargs):\n",
    "            request.url = f\"{openai.api_base}/openai/deployments/{deployment_id}/extensions/chat/completions?api-version={openai.api_version}\"\n",
    "            return super().send(request, **kwargs)\n",
    "\n",
    "    session = requests.Session()\n",
    "\n",
    "    # Mount a custom adapter which will use the extensions endpoint for any call using the given `deployment_id`\n",
    "    session.mount(\n",
    "        prefix=f\"{openai.api_base}/openai/deployments/{deployment_id}\",\n",
    "        adapter=BringYourOwnDataAdapter()\n",
    "    )\n",
    "\n",
    "    if use_azure_active_directory:\n",
    "        session.auth = TokenRefresh(default_credential, [\"https://cognitiveservices.azure.com/.default\"])\n",
    "\n",
    "    openai.requestssession = session\n"
   ]
  },
  {
   "cell_type": "markdown",
   "metadata": {},
   "source": [
    "Now we can call the convenience function to configure the SDK with the model we plan to use for our own data."
   ]
  },
  {
   "cell_type": "code",
   "execution_count": 61,
   "metadata": {},
   "outputs": [],
   "source": [
    "setup_byod(\"gpttuboall\")"
   ]
  },
  {
   "cell_type": "markdown",
   "metadata": {},
   "source": [
    "Providing our search endpoint, key, and index name for the `dataSources` keyword argument, any questions posed to the model will now be grounded in our own data. An additional property, `context`, will be provided to show the data the model referenced to answer the question."
   ]
  },
  {
   "cell_type": "code",
   "execution_count": 62,
   "metadata": {},
   "outputs": [
    {
     "name": "stdout",
     "output_type": "stream",
     "text": [
      "{\n",
      "  \"id\": \"41936a28-52dd-4599-a190-473926d8d3e9\",\n",
      "  \"model\": \"gpt-35-turbo-16k\",\n",
      "  \"created\": 1697919147,\n",
      "  \"object\": \"extensions.chat.completion\",\n",
      "  \"choices\": [\n",
      "    {\n",
      "      \"index\": 0,\n",
      "      \"finish_reason\": \"stop\",\n",
      "      \"message\": {\n",
      "        \"role\": \"assistant\",\n",
      "        \"content\": \"The revenue of JPMorgan Chase in 2012 was $91.7 billion [doc1].\",\n",
      "        \"end_turn\": true,\n",
      "        \"context\": {\n",
      "          \"messages\": [\n",
      "            {\n",
      "              \"role\": \"tool\",\n",
      "              \"content\": \"{\\\"citations\\\": [{\\\"content\\\": \\\"That \\u2019 s great as long \\\\nas there are willing buyers and sellers. But the auction-rate market relied on \\\\nauctions, many of which weren \\u2019 t successful during the financial crisis that \\\\nerupted in 2007. Many investors holding the securities found they couldn \\u2019 t \\\\nsell them because the market had dried up, causing a huge headache for \\\\nthe investors and investment banks. Credit default swaps are tools that \\\\nallow lenders to sell the risk that borrowers won \\u2019 t be able to meet their \\\\nobligations. Credit default swaps operate as a form of unregulated insur-\\\\nance policies. These instruments got so complicated, though, that they \\\\nexacerbated the financial interdependencies between giant financial firms, \\\\nworsening the financial crisis that erupted between 2007 and 2009. \\\\n \\u2713 The back office: The back office is the part of the investment bank \\\\nthat is far from the glamour of the front office. It \\u2019 s primarily made up of \\\\nthe systems and procedures that allow investment bankers to gather \\\\nthe data they need to do their jobs well. The back office, for instance, \\\\nmaintains the computer systems used by investment bankers to gauge \\\\ninterest in certain securities and provides traders the ability to make \\\\nshort-term bets on market movements. The parts of investment banking \\\\nconsidered more operational in nature tend to fall into the back office. \\\\n05_9781118615775-ch01.indd 1305_9781118615775-ch01.indd 13 1/11/2014 3:33:54 AM1/11/2014 3:33:54 AM\\\\n14 Part I: Getting Started with Investment Banking \\\\n \\\\n Investment banking operations are rarely identical between firms. Some banks \\\\nand investment banks are engaged in some front-office areas, while others \\\\nsteer clear of them completely. There are also some peripheral areas of busi-\\\\nness some banks and investment banks include as part of their services that \\\\ndon \\u2019 t fall in one of the traditional \\u201coffices.\\u201d One example of a service that is \\\\noften grouped in investment banking is investment management. In an invest-\\\\nment management unit, investment professionals are paid to invest money on \\\\nbehalf of individual clients or institutions. \\\\n The current lay of the investment \\\\nbanking land \\\\n After the tumultuous changes in the investment banking business follow-\\\\ning the financial crisis of 2007 through 2009, the entire landscape changed. \\\\nFollowing the banking crisis, investment banks needed capital. Some of the \\\\nmost storied investment banks, unable to raise money, merged with other \\\\nbanks or became commercial banks themselves. Suddenly, the financial \\\\nsystem was comprised of behemoth banks that have the deposit-taking abili-\\\\nties of banks but also engage in investment banking. The result is the forma-\\\\ntion of several mega-institutions that many people fear are \\u201ctoo big to fail,\\u201d \\\\nincluding the ones shown in Table 1-1 . \\\\n Table\\u00a01-1 Among the Last Banks Standing \\\\n Firm 2012 Revenue ($ billions) \\\\n JPMorgan Chase 91.7 \\\\n Wells Fargo 79.5 \\\\n Bank of America Merrill Lynch 75.2 \\\\n Citigroup 59.3 \\\\n Goldman Sachs 34.2 \\\\n Morgan Stanley 26.1 \\\\n Source: S&P Capital IQ ( www.capitaliq.com ) \\\\n05_9781118615775-ch01.indd 1405_9781118615775-ch01.indd 14 1/11/2014 3:33:54 AM1/11/2014 3:33:54 AM\\\\n15 Chapter 1: Introducing Investment Banking\\\\n Types of investment banking operations \\\\n Insiders in the investment banking business use all sorts of terms, some \\\\ndecidedly derogatory, to classify the players in the business. Some classifica-\\\\ntions that investment banks fall into include the following:\\\\n \\u2713 Bulge bracket: Bulge bracket investment firms aren \\u2019 t the ones that ate \\\\ntoo many slices of cheesecake. Instead, bulge bracket is a commonly \\\\nused slang term to describe the biggest of the big investment banking \\\\noperations. The bulge bracket firms are the behemoths, like the ones in \\\\nTable 1-1 . They have their hands in most areas of investment banking. \\\\n \\u2713 Boutique: Boutique investment firms are smaller investment banks and \\\\ntraditional banks that choose to focus on one or a select few areas of the \\\\nbusiness. Some firms, for instance, focus on selling securities for smaller \\\\ncompanies. \\\\n \\u2713 Regional: Regional firms typically focus on a particular part of the coun-\\\\ntry\\\", \\\"id\\\": null, \\\"title\\\": \\\"Chapter  1\\\", \\\"filepath\\\": \\\"investmentbanking.pdf.pdf\\\", \\\"url\\\": \\\"https://storageaccountcongsearch.blob.core.windows.net/fileupload-myaiindex/investmentbanking.pdf.pdf\\\", \\\"metadata\\\": {\\\"chunking\\\": \\\"orignal document size=1002. Scores=4.884041Org Highlight count=93.\\\"}, \\\"chunk_id\\\": \\\"0\\\"}, {\\\"content\\\": \\\"Goldman serves some very wealthy individuals and families in this part of its business. \\\\n05_9781118615775-ch01.indd 1605_9781118615775-ch01.indd 16 1/11/2014 3:33:54 AM1/11/2014 3:33:54 AM\\\\n17 Chapter 1: Introducing Investment Banking\\\\n Business Unit 2012 Revenue \\\\n($ millions) \\\\n 2011 Revenue \\\\n($ millions) \\\\n 2010 Revenue \\\\n($ millions) \\\\n Institutional client \\\\nservices \\\\n 18,124 17,280 21,796 \\\\n Investing and \\\\nlending \\\\n 5,891 2,142 7,541 \\\\n Investment \\\\n management \\\\n 5,222 5,034 5,014 \\\\n Investment \\\\n banking \\\\n 4,926 4,355 4,810 \\\\n Source: Goldman Sachs 2012 annual report \\\\n( www.sec.gov/Archives/edgar/data/886982/000119312513085474/\\\\nd446679d10k.htm ) \\\\n \\u2713 Investment banking: This part of Goldman is the one most interesting to readers of this book. \\\\nHere, Goldman guides companies embarking on M&A, provides assistance in bringing com-\\\\npanies public, and conducts financial restructurings. \\\\n You can see how the different parts of Goldman rank in order of importance to revenue in the \\\\nfollowing table. \\\\n How Investment Banking Is Done \\\\n Investment banking isn \\u2019 t just a theory or subject. Investment banking isn \\u2019 t \\\\njust an economic function, either. Investment banking is a profession that \\\\nrequires the efforts and expertise of armies of trained financial experts. You \\\\nmay have studied English in college, for instance, but you don \\u2019 t \\u201cdo\\u201d English. \\\\nBut you can practice investment banking (which is something you find out \\\\nabout in Chapter 6 ). At this point in the book, you go from understanding \\\\nwhat investment banking is to how it \\u2019 s applied in the business world. \\\\n Finding the financial statements \\\\n Chocolate factories need milk, sugar, and cocoa to produce their delicious \\\\nproducts. But the raw materials used by many investment banking firms \\\\nis the information contained on the financial statements. These documents \\\\n05_9781118615775-ch01.indd 1705_9781118615775-ch01.indd 17 1/11/2014 3:33:54 AM1/11/2014 3:33:54 AM\\\\n18 Part I: Getting Started with Investment Banking \\\\nreleased by companies provide investment bankers with much of the infor-\\\\nmation they need to start analyzing companies and looking for investment \\\\nbanking opportunities. \\\\n But these important documents can \\u2019 t do you any good if you can \\u2019 t find them. \\\\nThat \\u2019 s what you find out how to do in Chapter 6 . There you discover tools \\\\nthat make it easy for an expert investment banker to retrieve and find all the \\\\nrelevant data from the financial statements, even information the companies \\\\nmay not realized is as valuable as it is. \\\\n Understanding the importance of \\\\nfinancial statements and ratios \\\\n Investment bankers in the movies may be best known for roaming the con-\\\\ncrete alleys of Wall Street, ears glued to their cellphones, constantly on the \\\\nhunt for deals. But much of the most important work done by investment \\\\nbankers is done in front of a computer screen, examining rows of numbers \\\\nand statistics using spreadsheets and other financial analysis tools. In \\\\nChapter 7 , you find out how to make sense of all the information that \\u2019 s con-\\\\ntained in financial statements and why these documents are so precious to \\\\ninvestment bankers and vital to their success. \\\\n \\\\n Investment bankers know it \\u2019 s not necessary to read financial statements from \\\\ncover to cover like a book. Financial statements, like For Dummies books, can \\\\nbe read in sections \\u2014 you jump to areas that interest you at the time. \\\\nAdditionally, some of the best insights that come from the financial statements \\\\nresult from putting the numbers through the paces by applying financial \\\\nratios, which we introduce you to in Chapter 8 . \\\\n Zeroing in on past transactions \\\\n Putting a price tag on companies and other investments is a big part of what \\\\ninvestment bankers do. Talk about The Price Is Right on a grand scale! Luckily, \\\\nyou don \\u2019 t have to play Plinko and guess what companies are worth. There \\u2019 s \\\\nno shortage of analysis tools that investors can use to calculate the value of \\\\ncompanies\\\", \\\"id\\\": null, \\\"title\\\": \\\"Chapter  1\\\", \\\"filepath\\\": \\\"investmentbanking.pdf.pdf\\\", \\\"url\\\": \\\"https://storageaccountcongsearch.blob.core.windows.net/fileupload-myaiindex/investmentbanking.pdf.pdf\\\", \\\"metadata\\\": {\\\"chunking\\\": \\\"orignal document size=998. Scores=3.584224Org Highlight count=71.\\\"}, \\\"chunk_id\\\": \\\"1\\\"}], \\\"intent\\\": \\\"What was the revenue of JPMorgan Chase in 2012?\\\"}\",\n",
      "              \"end_turn\": false\n",
      "            }\n",
      "          ]\n",
      "        }\n",
      "      }\n",
      "    }\n",
      "  ]\n",
      "}\n"
     ]
    }
   ],
   "source": [
    "completion = openai.ChatCompletion.create(\n",
    "    messages=[{\"role\": \"user\", \"content\": \"what was the revenue of JPMorgan Chase in 2012 ?\"}],\n",
    "    deployment_id=\"gpttuboall\",\n",
    "    dataSources=[  # camelCase is intentional, as this is the format the API expects\n",
    "        {\n",
    "            \"type\": \"AzureCognitiveSearch\",\n",
    "            \"parameters\": {\n",
    "                \"endpoint\": \"https://consearchai.search.windows.net\",\n",
    "                \"key\": \"1EzwkzUStNqQPHQiSORRiZOgTGtrJyRTpgBzHjZSOyAzSeD1WFt9\",\n",
    "                \"indexName\": \"myaiindex\",\n",
    "            }\n",
    "        }\n",
    "    ]\n",
    ")\n",
    "\n",
    "\n",
    "\n",
    "\n",
    "\n",
    "\n",
    "\n",
    "\n",
    "\n",
    "\n",
    "\n",
    "    \n",
    "print(completion)"
   ]
  },
  {
   "cell_type": "markdown",
   "metadata": {},
   "source": [
    "If you would prefer to stream the response from the model, you can pass the `stream=True` keyword argument:"
   ]
  },
  {
   "cell_type": "code",
   "execution_count": 64,
   "metadata": {},
   "outputs": [
    {
     "name": "stdout",
     "output_type": "stream",
     "text": [
      "Context: {\n",
      "  \"messages\": [\n",
      "    {\n",
      "      \"role\": \"tool\",\n",
      "      \"content\": \"{\\\"citations\\\":[{\\\"content\\\":\\\"That \\u2019 s great as long \\\\nas there are willing buyers and sellers. But the auction-rate market relied on \\\\nauctions, many of which weren \\u2019 t successful during the financial crisis that \\\\nerupted in 2007. Many investors holding the securities found they couldn \\u2019 t \\\\nsell them because the market had dried up, causing a huge headache for \\\\nthe investors and investment banks. Credit default swaps are tools that \\\\nallow lenders to sell the risk that borrowers won \\u2019 t be able to meet their \\\\nobligations. Credit default swaps operate as a form of unregulated insur-\\\\nance policies. These instruments got so complicated, though, that they \\\\nexacerbated the financial interdependencies between giant financial firms, \\\\nworsening the financial crisis that erupted between 2007 and 2009. \\\\n \\u2713 The back office: The back office is the part of the investment bank \\\\nthat is far from the glamour of the front office. It \\u2019 s primarily made up of \\\\nthe systems and procedures that allow investment bankers to gather \\\\nthe data they need to do their jobs well. The back office, for instance, \\\\nmaintains the computer systems used by investment bankers to gauge \\\\ninterest in certain securities and provides traders the ability to make \\\\nshort-term bets on market movements. The parts of investment banking \\\\nconsidered more operational in nature tend to fall into the back office. \\\\n05_9781118615775-ch01.indd 1305_9781118615775-ch01.indd 13 1/11/2014 3:33:54 AM1/11/2014 3:33:54 AM\\\\n14 Part I: Getting Started with Investment Banking \\\\n \\\\n Investment banking operations are rarely identical between firms. Some banks \\\\nand investment banks are engaged in some front-office areas, while others \\\\nsteer clear of them completely. There are also some peripheral areas of busi-\\\\nness some banks and investment banks include as part of their services that \\\\ndon \\u2019 t fall in one of the traditional \\u201coffices.\\u201d One example of a service that is \\\\noften grouped in investment banking is investment management. In an invest-\\\\nment management unit, investment professionals are paid to invest money on \\\\nbehalf of individual clients or institutions. \\\\n The current lay of the investment \\\\nbanking land \\\\n After the tumultuous changes in the investment banking business follow-\\\\ning the financial crisis of 2007 through 2009, the entire landscape changed. \\\\nFollowing the banking crisis, investment banks needed capital. Some of the \\\\nmost storied investment banks, unable to raise money, merged with other \\\\nbanks or became commercial banks themselves. Suddenly, the financial \\\\nsystem was comprised of behemoth banks that have the deposit-taking abili-\\\\nties of banks but also engage in investment banking. The result is the forma-\\\\ntion of several mega-institutions that many people fear are \\u201ctoo big to fail,\\u201d \\\\nincluding the ones shown in Table 1-1 . \\\\n Table\\u00a01-1 Among the Last Banks Standing \\\\n Firm 2012 Revenue ($ billions) \\\\n JPMorgan Chase 91.7 \\\\n Wells Fargo 79.5 \\\\n Bank of America Merrill Lynch 75.2 \\\\n Citigroup 59.3 \\\\n Goldman Sachs 34.2 \\\\n Morgan Stanley 26.1 \\\\n Source: S&P Capital IQ ( www.capitaliq.com ) \\\\n05_9781118615775-ch01.indd 1405_9781118615775-ch01.indd 14 1/11/2014 3:33:54 AM1/11/2014 3:33:54 AM\\\\n15 Chapter 1: Introducing Investment Banking\\\\n Types of investment banking operations \\\\n Insiders in the investment banking business use all sorts of terms, some \\\\ndecidedly derogatory, to classify the players in the business. Some classifica-\\\\ntions that investment banks fall into include the following:\\\\n \\u2713 Bulge bracket: Bulge bracket investment firms aren \\u2019 t the ones that ate \\\\ntoo many slices of cheesecake. Instead, bulge bracket is a commonly \\\\nused slang term to describe the biggest of the big investment banking \\\\noperations. The bulge bracket firms are the behemoths, like the ones in \\\\nTable 1-1 . They have their hands in most areas of investment banking. \\\\n \\u2713 Boutique: Boutique investment firms are smaller investment banks and \\\\ntraditional banks that choose to focus on one or a select few areas of the \\\\nbusiness. Some firms, for instance, focus on selling securities for smaller \\\\ncompanies. \\\\n \\u2713 Regional: Regional firms typically focus on a particular part of the coun-\\\\ntry\\\",\\\"id\\\":null,\\\"title\\\":\\\"Chapter  1\\\",\\\"filepath\\\":\\\"investmentbanking.pdf.pdf\\\",\\\"url\\\":\\\"https://storageaccountcongsearch.blob.core.windows.net/fileupload-myaiindex/investmentbanking.pdf.pdf\\\",\\\"metadata\\\":{\\\"chunking\\\":\\\"orignal document size=1002. Scores=4.884041Org Highlight count=93.\\\"},\\\"chunk_id\\\":\\\"0\\\"},{\\\"content\\\":\\\"Goldman serves some very wealthy individuals and families in this part of its business. \\\\n05_9781118615775-ch01.indd 1605_9781118615775-ch01.indd 16 1/11/2014 3:33:54 AM1/11/2014 3:33:54 AM\\\\n17 Chapter 1: Introducing Investment Banking\\\\n Business Unit 2012 Revenue \\\\n($ millions) \\\\n 2011 Revenue \\\\n($ millions) \\\\n 2010 Revenue \\\\n($ millions) \\\\n Institutional client \\\\nservices \\\\n 18,124 17,280 21,796 \\\\n Investing and \\\\nlending \\\\n 5,891 2,142 7,541 \\\\n Investment \\\\n management \\\\n 5,222 5,034 5,014 \\\\n Investment \\\\n banking \\\\n 4,926 4,355 4,810 \\\\n Source: Goldman Sachs 2012 annual report \\\\n( www.sec.gov/Archives/edgar/data/886982/000119312513085474/\\\\nd446679d10k.htm ) \\\\n \\u2713 Investment banking: This part of Goldman is the one most interesting to readers of this book. \\\\nHere, Goldman guides companies embarking on M&A, provides assistance in bringing com-\\\\npanies public, and conducts financial restructurings. \\\\n You can see how the different parts of Goldman rank in order of importance to revenue in the \\\\nfollowing table. \\\\n How Investment Banking Is Done \\\\n Investment banking isn \\u2019 t just a theory or subject. Investment banking isn \\u2019 t \\\\njust an economic function, either. Investment banking is a profession that \\\\nrequires the efforts and expertise of armies of trained financial experts. You \\\\nmay have studied English in college, for instance, but you don \\u2019 t \\u201cdo\\u201d English. \\\\nBut you can practice investment banking (which is something you find out \\\\nabout in Chapter 6 ). At this point in the book, you go from understanding \\\\nwhat investment banking is to how it \\u2019 s applied in the business world. \\\\n Finding the financial statements \\\\n Chocolate factories need milk, sugar, and cocoa to produce their delicious \\\\nproducts. But the raw materials used by many investment banking firms \\\\nis the information contained on the financial statements. These documents \\\\n05_9781118615775-ch01.indd 1705_9781118615775-ch01.indd 17 1/11/2014 3:33:54 AM1/11/2014 3:33:54 AM\\\\n18 Part I: Getting Started with Investment Banking \\\\nreleased by companies provide investment bankers with much of the infor-\\\\nmation they need to start analyzing companies and looking for investment \\\\nbanking opportunities. \\\\n But these important documents can \\u2019 t do you any good if you can \\u2019 t find them. \\\\nThat \\u2019 s what you find out how to do in Chapter 6 . There you discover tools \\\\nthat make it easy for an expert investment banker to retrieve and find all the \\\\nrelevant data from the financial statements, even information the companies \\\\nmay not realized is as valuable as it is. \\\\n Understanding the importance of \\\\nfinancial statements and ratios \\\\n Investment bankers in the movies may be best known for roaming the con-\\\\ncrete alleys of Wall Street, ears glued to their cellphones, constantly on the \\\\nhunt for deals. But much of the most important work done by investment \\\\nbankers is done in front of a computer screen, examining rows of numbers \\\\nand statistics using spreadsheets and other financial analysis tools. In \\\\nChapter 7 , you find out how to make sense of all the information that \\u2019 s con-\\\\ntained in financial statements and why these documents are so precious to \\\\ninvestment bankers and vital to their success. \\\\n \\\\n Investment bankers know it \\u2019 s not necessary to read financial statements from \\\\ncover to cover like a book. Financial statements, like For Dummies books, can \\\\nbe read in sections \\u2014 you jump to areas that interest you at the time. \\\\nAdditionally, some of the best insights that come from the financial statements \\\\nresult from putting the numbers through the paces by applying financial \\\\nratios, which we introduce you to in Chapter 8 . \\\\n Zeroing in on past transactions \\\\n Putting a price tag on companies and other investments is a big part of what \\\\ninvestment bankers do. Talk about The Price Is Right on a grand scale! Luckily, \\\\nyou don \\u2019 t have to play Plinko and guess what companies are worth. There \\u2019 s \\\\nno shortage of analysis tools that investors can use to calculate the value of \\\\ncompanies\\\",\\\"id\\\":null,\\\"title\\\":\\\"Chapter  1\\\",\\\"filepath\\\":\\\"investmentbanking.pdf.pdf\\\",\\\"url\\\":\\\"https://storageaccountcongsearch.blob.core.windows.net/fileupload-myaiindex/investmentbanking.pdf.pdf\\\",\\\"metadata\\\":{\\\"chunking\\\":\\\"orignal document size=998. Scores=3.584224Org Highlight count=71.\\\"},\\\"chunk_id\\\":\\\"1\\\"}],\\\"intent\\\":\\\"What was the revenue of JPMorgan Chase in 2012?\\\"}\",\n",
      "      \"end_turn\": false\n",
      "    }\n",
      "  ]\n",
      "}\n",
      "assistant: The revenue of JPMorgan Chase in 2012 was $91.7 billion [doc1]."
     ]
    }
   ],
   "source": [
    " \n",
    "\n",
    "\n",
    "response = openai.ChatCompletion.create(\n",
    "    messages=[{\"role\": \"user\", \"content\": \"what was the revenue of JPMorgan Chase in 2012 ?\"}],\n",
    "    deployment_id=\"gpttuboall\",\n",
    "    dataSources=[  # camelCase is intentional, as this is the format the API expects\n",
    "        {\n",
    "            \"type\": \"AzureCognitiveSearch\",\n",
    "            \"parameters\": {\n",
    "                \"endpoint\": \"https://consearchai.search.windows.net\",\n",
    "                \"key\": \"1EzwkzUStNqQPHQiSORRiZOgTGtrJyRTpgBzHjZSOyAzSeD1WFt9\",\n",
    "                \"indexName\": \"myaiindex\",\n",
    "            }\n",
    "        }\n",
    "    ], stream=True,\n",
    ")\n",
    "\n",
    "\n",
    "for chunk in response:\n",
    "    delta = chunk.choices[0].delta\n",
    "\n",
    "    if \"role\" in delta:\n",
    "        print(\"\\n\"+ delta.role + \": \", end=\"\", flush=True)\n",
    "    if \"content\" in delta:\n",
    "        print(delta.content, end=\"\", flush=True)\n",
    "    if \"context\" in delta:\n",
    "        print(f\"Context: {delta.context}\", end=\"\", flush=True)"
   ]
  }
 ],
 "metadata": {
  "kernelspec": {
   "display_name": ".venv",
   "language": "python",
   "name": "python3"
  },
  "language_info": {
   "codemirror_mode": {
    "name": "ipython",
    "version": 3
   },
   "file_extension": ".py",
   "mimetype": "text/x-python",
   "name": "python",
   "nbconvert_exporter": "python",
   "pygments_lexer": "ipython3",
   "version": "3.11.5"
  },
  "orig_nbformat": 4
 },
 "nbformat": 4,
 "nbformat_minor": 2
}
